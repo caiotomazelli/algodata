{
 "cells": [
  {
   "cell_type": "markdown",
   "metadata": {},
   "source": [
    "# 2D List of facts\n",
    "\n",
    "Given a list of facts, e.g., `F = [(1, 'N', 2), (2, 'N', 3), (3, 'N', 1)]` about points on a 2D plane, determine if these points can or cannot be ploted."
   ]
  },
  {
   "cell_type": "code",
   "execution_count": 23,
   "metadata": {},
   "outputs": [],
   "source": [
    "from dataclasses import dataclass, field\n",
    "from typing import Mapping, List, Tuple, Set\n",
    "from collections import defaultdict\n",
    "\n",
    "NodeMap = Mapping[int, List[int]]\n",
    "Fact = Tuple[int, str, int]\n",
    "\n",
    "@dataclass\n",
    "class Node:\n",
    "    value: int\n",
    "    next: List['Node'] = field(default_factory = list)\n",
    "\n",
    "def can_plot_facts(facts: List[Fact]) -> bool:\n",
    "    x_vertices, y_vertices = defaultdict(list), defaultdict(list)\n",
    "    for (A, edge, B) in facts:\n",
    "        match edge:\n",
    "            case 'N':\n",
    "                y_vertices[A].append(B)\n",
    "            case 'S':\n",
    "                y_vertices[B].append(A)\n",
    "            case 'E':\n",
    "                x_vertices[A].append(B)\n",
    "            case 'W':\n",
    "                x_vertices[B].append(A)\n",
    "            case _:\n",
    "                raise NotImplemented(\"Direction unkown.\")\n",
    "    return not has_cycle(x_vertices) and not has_cycle(y_vertices)\n",
    "\n",
    "def build_graph(vertices: NodeMap) -> bool:\n",
    "    root = None\n",
    "    node_map = {}\n",
    "    for (value, next_values) in vertices.items():\n",
    "        if value not in node_map:\n",
    "            current_node = Node(value)\n",
    "            node_map[value] = current_node\n",
    "        else:\n",
    "            current_node = node_map[value]\n",
    "        if root is None:\n",
    "            root = current_node\n",
    "        for next_value in next_values:\n",
    "            if next_value not in node_map:\n",
    "                node_map[next_value] = Node(next_value)\n",
    "            current_node.next.append(node_map[next_value])\n",
    "    return root\n",
    "\n",
    "def has_cycle(vertices: NodeMap) -> bool:\n",
    "    def has_cycle_aux(node: Node, visited: Set = set()) -> bool:\n",
    "        cycle = False\n",
    "        if node:\n",
    "            if node.value in visited:\n",
    "                return True\n",
    "            visited.add(node.value)\n",
    "            for next_node in node.next:\n",
    "                cycle = has_cycle_aux(next_node, visited)\n",
    "        return cycle\n",
    "    \n",
    "    root = build_graph(vertices)\n",
    "    return has_cycle_aux(root)\n",
    "        \n"
   ]
  },
  {
   "cell_type": "code",
   "execution_count": 35,
   "metadata": {},
   "outputs": [
    {
     "name": "stderr",
     "output_type": "stream",
     "text": [
      "test_can_plot_facts (__main__.TestCanPlotFacts) ... ok\n",
      "\n",
      "----------------------------------------------------------------------\n",
      "Ran 1 test in 0.003s\n",
      "\n",
      "OK\n"
     ]
    },
    {
     "data": {
      "text/plain": [
       "<unittest.main.TestProgram at 0x7f75f1ed3cd0>"
      ]
     },
     "execution_count": 35,
     "metadata": {},
     "output_type": "execute_result"
    }
   ],
   "source": [
    "import unittest\n",
    "\n",
    "class TestCanPlotFacts(unittest.TestCase):\n",
    "  def test_can_plot_facts(self):\n",
    "    facts_examples = [\n",
    "        {   \n",
    "            \"case\": \"North Cycle\",\n",
    "            \"facts\": [\n",
    "                (1, 'N', 2),\n",
    "                (2, 'N', 3),\n",
    "                (3, 'N', 1)\n",
    "            ],\n",
    "            \"expected\": False\n",
    "        },\n",
    "        {\n",
    "            \"case\": \"No cycle\",\n",
    "            \"facts\": [\n",
    "                (1, 'N', 2),\n",
    "                (2, 'N', 3),\n",
    "            ],\n",
    "            \"expected\": True\n",
    "        },    \n",
    "        {\n",
    "            \"case\": \"Empty facts\",\n",
    "            \"facts\": [\n",
    "            ],\n",
    "            \"expected\": True\n",
    "        },    \n",
    "        {\n",
    "            \"case\": \"West Cycle\",\n",
    "            \"facts\": [\n",
    "                (1, 'N', 2),\n",
    "                (2, 'N', 3),\n",
    "                (3, 'W', 1),\n",
    "                (4, 'W', 3),\n",
    "                (1, 'W', 4)\n",
    "            ],\n",
    "            \"expected\": False\n",
    "        },                    \n",
    "    ]\n",
    "    for example in facts_examples:\n",
    "        with self.subTest(example[\"case\"]):\n",
    "            actual = can_plot_facts(example[\"facts\"])\n",
    "            self.assertEqual(actual, example[\"expected\"])\n",
    "\n",
    "unittest.main(argv=[''], verbosity=2, exit=False)"
   ]
  }
 ],
 "metadata": {
  "kernelspec": {
   "display_name": "Python 3 (ipykernel)",
   "language": "python",
   "name": "python3"
  },
  "language_info": {
   "codemirror_mode": {
    "name": "ipython",
    "version": 3
   },
   "file_extension": ".py",
   "mimetype": "text/x-python",
   "name": "python",
   "nbconvert_exporter": "python",
   "pygments_lexer": "ipython3",
   "version": "3.10.13"
  }
 },
 "nbformat": 4,
 "nbformat_minor": 2
}
