{
  "cells": [
    {
      "cell_type": "markdown",
      "metadata": {
        "id": "r9koSc_1E9zm"
      },
      "source": [
        "# tópicos para cobrir\n",
        "## sorting (todos - bubble sort, merge sort, selection sort, insertion search, quick sort, heap sort, counting sort)\n",
        "## binary search\n",
        "## pivoteamento do quick sort\n",
        "## traversals em grafos - DFS, BFS\n",
        "## topological search\n",
        "## tree traversals - in order, post order, preorder\n",
        "## quick select"
      ]
    },
    {
      "cell_type": "markdown",
      "metadata": {
        "id": "pWRE7T90OjGE"
      },
      "source": [
        "## Imports\n",
        "\n"
      ]
    },
    {
      "cell_type": "code",
      "execution_count": 2,
      "metadata": {
        "id": "wBy-02YhKr9p"
      },
      "outputs": [],
      "source": [
        "import unittest\n",
        "import random\n",
        "from typing import Any"
      ]
    },
    {
      "cell_type": "markdown",
      "metadata": {
        "id": "ikcmii9EFPF8"
      },
      "source": [
        "## Selection Sort"
      ]
    },
    {
      "cell_type": "code",
      "execution_count": 4,
      "metadata": {
        "id": "U_gH1Jv2E9zp"
      },
      "outputs": [],
      "source": [
        "def selection_sort(arr: list[Any]):\n",
        "  for i in range(len(arr)):\n",
        "    min = None\n",
        "    min_idx = None\n",
        "    for j in range(i,len(arr)):\n",
        "      if min is None or arr[j] < min:\n",
        "        min = arr[j]\n",
        "        min_idx = j\n",
        "    arr[i], arr[min_idx] = arr[min_idx], arr[i]\n",
        "  return arr\n"
      ]
    },
    {
      "cell_type": "markdown",
      "metadata": {
        "id": "Zp2G2QyQOrbt"
      },
      "source": [
        "## Insertion Sort"
      ]
    },
    {
      "cell_type": "code",
      "execution_count": 7,
      "metadata": {
        "id": "d8tKAKGrOq-5"
      },
      "outputs": [],
      "source": [
        "def insertion_sort(arr: list[Any]):\n",
        "  ..."
      ]
    },
    {
      "cell_type": "markdown",
      "metadata": {
        "id": "5urzxxiiOZLC"
      },
      "source": [
        "## Sorting Tests"
      ]
    },
    {
      "cell_type": "code",
      "execution_count": 9,
      "metadata": {
        "colab": {
          "base_uri": "https://localhost:8080/"
        },
        "id": "O_OpaxNsFgA4",
        "outputId": "168b22e8-725a-43eb-dea4-af2a951a87f5"
      },
      "outputs": [
        {
          "name": "stderr",
          "output_type": "stream",
          "text": [
            "test_sorts (__main__.TestSorting) ... ok\n",
            "\n",
            "----------------------------------------------------------------------\n",
            "Ran 1 test in 0.028s\n",
            "\n",
            "OK\n"
          ]
        },
        {
          "data": {
            "text/plain": [
              "<unittest.main.TestProgram at 0x7f53387986d0>"
            ]
          },
          "execution_count": 9,
          "metadata": {},
          "output_type": "execute_result"
        }
      ],
      "source": [
        "class TestSorting(unittest.TestCase):\n",
        "  def test_sorts(self):\n",
        "    random_arr = [random.random() * 1e6 for _ in range(1000)]\n",
        "    items = [\n",
        "        {'case': 'empty', 'arr': [], 'expected': []},\n",
        "        {'case': 'unsorted', 'arr': [6,4,3,9,1], 'expected': [1,3,4,6,9]},\n",
        "        {'case': 'repeated', 'arr': [1,1,1,0,-91], 'expected': [-91,0,1,1,1]},\n",
        "        {'case': 'random', 'arr': random_arr, 'expected': sorted(random_arr)},\n",
        "    ]\n",
        "    # fns = [selection_sort, insertion_sort]\n",
        "    fns = [selection_sort]\n",
        "\n",
        "    for fn in fns:\n",
        "      for item in items:\n",
        "        with self.subTest(f\"{fn.__name__} : {item['case']}\"):\n",
        "          actual = fn(item['arr'])\n",
        "          self.assertEqual(actual, item['expected'])\n",
        "\n",
        "unittest.main(argv=[''], verbosity=2, exit=False)"
      ]
    }
  ],
  "metadata": {
    "colab": {
      "provenance": []
    },
    "kernelspec": {
      "display_name": "Python 3 (ipykernel)",
      "language": "python",
      "name": "python3"
    },
    "language_info": {
      "codemirror_mode": {
        "name": "ipython",
        "version": 3
      },
      "file_extension": ".py",
      "mimetype": "text/x-python",
      "name": "python",
      "nbconvert_exporter": "python",
      "pygments_lexer": "ipython3",
      "version": "3.10.13"
    },
    "orig_nbformat": 4
  },
  "nbformat": 4,
  "nbformat_minor": 0
}
