{
  "cells": [
    {
      "cell_type": "markdown",
      "metadata": {
        "id": "r9koSc_1E9zm"
      },
      "source": [
        "# tópicos para cobrir\n",
        "## sorting (todos - bubble sort, merge sort, selection sort, insertion search, quick sort, heap sort, counting sort)\n",
        "## binary search\n",
        "## pivoteamento do quick sort\n",
        "## traversals em grafos - DFS, BFS\n",
        "## topological search\n",
        "## tree traversals - in order, post order, preorder\n",
        "## quick select"
      ]
    },
    {
      "cell_type": "markdown",
      "source": [
        "## Imports\n",
        "\n"
      ],
      "metadata": {
        "id": "pWRE7T90OjGE"
      }
    },
    {
      "cell_type": "code",
      "source": [
        "import unittest\n",
        "import random\n",
        "from typing import Any"
      ],
      "metadata": {
        "id": "wBy-02YhKr9p"
      },
      "execution_count": 36,
      "outputs": []
    },
    {
      "cell_type": "markdown",
      "source": [
        "## Selection Sort"
      ],
      "metadata": {
        "id": "ikcmii9EFPF8"
      }
    },
    {
      "cell_type": "code",
      "execution_count": 37,
      "metadata": {
        "id": "U_gH1Jv2E9zp"
      },
      "outputs": [],
      "source": [
        "def selection_sort(arr: list[Any]):\n",
        "  for i in range(len(arr)):\n",
        "    min = None\n",
        "    min_idx = None\n",
        "    for j in range(i,len(arr)):\n",
        "      if min is None or arr[j] < min:\n",
        "        min = arr[j]\n",
        "        min_idx = j\n",
        "    arr[i], arr[min_idx] = arr[min_idx], arr[i]\n",
        "  return arr\n",
        ""
      ]
    },
    {
      "cell_type": "markdown",
      "source": [
        "## Insertion Sort"
      ],
      "metadata": {
        "id": "Zp2G2QyQOrbt"
      }
    },
    {
      "cell_type": "code",
      "source": [
        "def insertion_sort(arr: list[Any]):\n",
        "  ..."
      ],
      "metadata": {
        "id": "d8tKAKGrOq-5"
      },
      "execution_count": 45,
      "outputs": []
    },
    {
      "cell_type": "markdown",
      "source": [
        "## Sorting Tests"
      ],
      "metadata": {
        "id": "5urzxxiiOZLC"
      }
    },
    {
      "cell_type": "code",
      "source": [
        "class TestSorting(unittest.TestCase):\n",
        "  def test_sorts(self):\n",
        "    random_arr = [random.random() * 1e6 for _ in range(1000)]\n",
        "    items = [\n",
        "        {'case': 'empty', 'arr': [], 'expected': []},\n",
        "        {'case': 'unsorted', 'arr': [6,4,3,9,1], 'expected': [1,3,4,6,9]},\n",
        "        {'case': 'repeated', 'arr': [1,1,1,0,-91], 'expected': [-91,0,1,1,1]},\n",
        "        {'case': 'random', 'arr': random_arr, 'expected': sorted(random_arr)},\n",
        "    ]\n",
        "    fns = [selection_sort, insertion_sort]\n",
        "\n",
        "    for fn in fns:\n",
        "      for item in items:\n",
        "        with self.subTest(f\"{fn.__name__} : {item['case']}\"):\n",
        "          actual = fn(item['arr'])\n",
        "          self.assertEqual(actual, item['expected'])\n",
        "\n",
        "unittest.main(argv=[''], verbosity=2, exit=False)"
      ],
      "metadata": {
        "colab": {
          "base_uri": "https://localhost:8080/"
        },
        "id": "O_OpaxNsFgA4",
        "outputId": "168b22e8-725a-43eb-dea4-af2a951a87f5"
      },
      "execution_count": 46,
      "outputs": [
        {
          "output_type": "stream",
          "name": "stderr",
          "text": [
            "test_sorts (__main__.TestSorting) ... \n",
            "======================================================================\n",
            "FAIL: test_sorts (__main__.TestSorting) [insertion_sort : empty]\n",
            "----------------------------------------------------------------------\n",
            "Traceback (most recent call last):\n",
            "  File \"<ipython-input-46-9e0529bfd84e>\", line 16, in test_sorts\n",
            "    self.assertEqual(actual, item['expected'])\n",
            "AssertionError: None != []\n",
            "\n",
            "======================================================================\n",
            "FAIL: test_sorts (__main__.TestSorting) [insertion_sort : unsorted]\n",
            "----------------------------------------------------------------------\n",
            "Traceback (most recent call last):\n",
            "  File \"<ipython-input-46-9e0529bfd84e>\", line 16, in test_sorts\n",
            "    self.assertEqual(actual, item['expected'])\n",
            "AssertionError: None != [1, 3, 4, 6, 9]\n",
            "\n",
            "======================================================================\n",
            "FAIL: test_sorts (__main__.TestSorting) [insertion_sort : repeated]\n",
            "----------------------------------------------------------------------\n",
            "Traceback (most recent call last):\n",
            "  File \"<ipython-input-46-9e0529bfd84e>\", line 16, in test_sorts\n",
            "    self.assertEqual(actual, item['expected'])\n",
            "AssertionError: None != [-91, 0, 1, 1, 1]\n",
            "\n",
            "======================================================================\n",
            "FAIL: test_sorts (__main__.TestSorting) [insertion_sort : random]\n",
            "----------------------------------------------------------------------\n",
            "Traceback (most recent call last):\n",
            "  File \"<ipython-input-46-9e0529bfd84e>\", line 16, in test_sorts\n",
            "    self.assertEqual(actual, item['expected'])\n",
            "AssertionError: None != [846.9813009938099, 1303.9359937679906, 1[19124 chars]7857]\n",
            "\n",
            "----------------------------------------------------------------------\n",
            "Ran 1 test in 0.047s\n",
            "\n",
            "FAILED (failures=4)\n"
          ]
        },
        {
          "output_type": "execute_result",
          "data": {
            "text/plain": [
              "<unittest.main.TestProgram at 0x7f60434d8f10>"
            ]
          },
          "metadata": {},
          "execution_count": 46
        }
      ]
    }
  ],
  "metadata": {
    "language_info": {
      "name": "python"
    },
    "orig_nbformat": 4,
    "colab": {
      "provenance": []
    },
    "kernelspec": {
      "name": "python3",
      "display_name": "Python 3"
    }
  },
  "nbformat": 4,
  "nbformat_minor": 0
}