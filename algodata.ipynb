{
  "cells": [
    {
      "cell_type": "markdown",
      "metadata": {
        "id": "r9koSc_1E9zm"
      },
      "source": [
        "# tópicos para cobrir\n",
        "## sorting (todos - bubble sort, merge sort, selection sort, insertion search, quick sort, heap sort, counting sort)\n",
        "## binary search\n",
        "## pivoteamento do quick sort\n",
        "## traversals em grafos - DFS, BFS\n",
        "## topological search\n",
        "## tree traversals - in order, post order, preorder\n",
        "## quick select"
      ]
    },
    {
      "cell_type": "markdown",
      "source": [
        "# Selection Sort"
      ],
      "metadata": {
        "id": "ikcmii9EFPF8"
      }
    },
    {
      "cell_type": "code",
      "execution_count": 2,
      "metadata": {
        "id": "U_gH1Jv2E9zp"
      },
      "outputs": [],
      "source": [
        "def selection_sort(arr: list[float]):\n",
        "  pass"
      ]
    },
    {
      "cell_type": "code",
      "source": [
        "def test_selection_sort():\n",
        "  pass"
      ],
      "metadata": {
        "id": "O_OpaxNsFgA4"
      },
      "execution_count": 3,
      "outputs": []
    }
  ],
  "metadata": {
    "language_info": {
      "name": "python"
    },
    "orig_nbformat": 4,
    "colab": {
      "provenance": []
    },
    "kernelspec": {
      "name": "python3",
      "display_name": "Python 3"
    }
  },
  "nbformat": 4,
  "nbformat_minor": 0
}