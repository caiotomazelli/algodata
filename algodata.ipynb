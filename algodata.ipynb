# - sorting (todos - bubble sort, merge sort, selection sort, insertion search, quick sort, heap sort, counting sort)
# - binary search
# - pivoteamento do quick sort
# - traversals em grafos - DFS, BFS
# - topological search
# -tree traversals - in order, post order, preorder
# - quick select
