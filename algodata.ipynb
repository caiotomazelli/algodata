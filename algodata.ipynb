{
 "cells": [
  {
   "cell_type": "code",
   "execution_count": null,
   "metadata": {},
   "outputs": [],
   "source": []
  },
  {
   "cell_type": "markdown",
   "metadata": {},
   "source": [
    "# tópicos para cobrir\n",
    "## sorting (todos - bubble sort, merge sort, selection sort, insertion search, quick sort, heap sort, counting sort)\n",
    "## binary search\n",
    "## pivoteamento do quick sort\n",
    "## traversals em grafos - DFS, BFS\n",
    "## topological search\n",
    "## tree traversals - in order, post order, preorder\n",
    "## quick select"
   ]
  },
  {
   "cell_type": "code",
   "execution_count": null,
   "metadata": {},
   "outputs": [],
   "source": []
  }
 ],
 "metadata": {
  "language_info": {
   "name": "python"
  },
  "orig_nbformat": 4
 },
 "nbformat": 4,
 "nbformat_minor": 2
}
